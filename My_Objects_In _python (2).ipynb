{
 "cells": [
  {
   "cell_type": "markdown",
   "id": "39d388a7",
   "metadata": {},
   "source": [
    "# creating A calculator class that takes two values to do basic artimetic operatios"
   ]
  },
  {
   "cell_type": "code",
   "execution_count": 64,
   "id": "e903cdfb",
   "metadata": {},
   "outputs": [],
   "source": [
    "class Calculator:\n",
    "#     define mathod of the class to add two arguments and returnd thier su,\n",
    "    def add(self,a,b):\n",
    "        return  f\"sum of {a} and {b} is {a+b} \"\n",
    "#     define method substraction that takes two arguments and returns their difference\n",
    "    def substract(self,a,b):\n",
    "        return f\"the diffrence is {a-b} \" \n",
    "    #     define method multiplication that takes two arguments and returns their product\n",
    "    def multiplication(self,a,b):\n",
    "        return f\" the prodiuct is {a*b}\"\n",
    "    #     define method division that takes two arguments and returns their quetiont\n",
    "    def division(self,a,b):\n",
    "        if b!=0:\n",
    "            return f\" the quetiont is {a/b}\"\n",
    "        else:\n",
    "            return f\"Error! Zero division error:  {a} can't be devided by {b}\"\n",
    "    "
   ]
  },
  {
   "cell_type": "code",
   "execution_count": 65,
   "id": "56b5f45e",
   "metadata": {},
   "outputs": [],
   "source": [
    "#creating an object calculator\n",
    "calculator=Calculator()"
   ]
  },
  {
   "cell_type": "code",
   "execution_count": 66,
   "id": "025b7f27",
   "metadata": {},
   "outputs": [
    {
     "data": {
      "text/plain": [
       "'sum of 3 and 7 is 10 '"
      ]
     },
     "execution_count": 66,
     "metadata": {},
     "output_type": "execute_result"
    }
   ],
   "source": [
    "#addition calculator\n",
    "calculator.add(3,7)"
   ]
  },
  {
   "cell_type": "code",
   "execution_count": 67,
   "id": "ed0ca845",
   "metadata": {},
   "outputs": [
    {
     "data": {
      "text/plain": [
       "'the diffrence is -4 '"
      ]
     },
     "execution_count": 67,
     "metadata": {},
     "output_type": "execute_result"
    }
   ],
   "source": [
    "#addition calculator\n",
    "calculator.substract(3,7)"
   ]
  },
  {
   "cell_type": "code",
   "execution_count": 68,
   "id": "3b52e8b2",
   "metadata": {},
   "outputs": [
    {
     "data": {
      "text/plain": [
       "' the prodiuct is 21'"
      ]
     },
     "execution_count": 68,
     "metadata": {},
     "output_type": "execute_result"
    }
   ],
   "source": [
    "#addition calculator\n",
    "calculator.multiplication(3,7)"
   ]
  },
  {
   "cell_type": "code",
   "execution_count": 69,
   "id": "39c61028",
   "metadata": {
    "scrolled": true
   },
   "outputs": [
    {
     "data": {
      "text/plain": [
       "' the quetiont is 0.42857142857142855'"
      ]
     },
     "execution_count": 69,
     "metadata": {},
     "output_type": "execute_result"
    }
   ],
   "source": [
    "#addition calculator\n",
    "calculator.division(3,7)\n"
   ]
  },
  {
   "cell_type": "code",
   "execution_count": 70,
   "id": "1ff1bd9e",
   "metadata": {},
   "outputs": [
    {
     "data": {
      "text/plain": [
       "\"Error! Zero division error:  3 can't be devided by 0\""
      ]
     },
     "execution_count": 70,
     "metadata": {},
     "output_type": "execute_result"
    }
   ],
   "source": [
    "#addition calculator\n",
    "calculator.division(3,0)"
   ]
  },
  {
   "cell_type": "code",
   "execution_count": null,
   "id": "815943da",
   "metadata": {},
   "outputs": [],
   "source": []
  },
  {
   "cell_type": "code",
   "execution_count": 71,
   "id": "6debe5f8",
   "metadata": {},
   "outputs": [],
   "source": [
    "# creating diffrent person obects from person class.. having same attributes but different persons¶\n",
    "# printing name \n",
    "# printing age \n",
    "# printing birth date>>>>) with age calculator maethod printing country"
   ]
  },
  {
   "cell_type": "code",
   "execution_count": 72,
   "id": "15a8d0df",
   "metadata": {},
   "outputs": [],
   "source": [
    "# getting class date from datetime module\n",
    "from datetime import date \n",
    "                # define a class called Person to represent person with name \n",
    "                # country and date of birth\n",
    "class Person:\n",
    "    def __init__(self , name,country,date_of_birth,email):\n",
    "        self.name=name                                   #giving name to a class Person\n",
    "        self.country=country                         #giving country to a class Person\n",
    "        self.date_of_birth=date_of_birth #giving date_of _birth to a class Person\n",
    "        self.email=email\n",
    "    def age_calculator(self):\n",
    "        today=date.today()                       #recalculating today's date\n",
    "        self.age=today.year-self.date_of_birth.year\n",
    "#calculating the diffrence of montha and days of dat..if the day  and moth is ahead of the c\n",
    "# current date(taday) the age becomes -1 from the year diffrence\n",
    "        if today<date(today.year,self.date_of_birth.month,self.date_of_birth.day):\n",
    "            self.age-=1\n",
    "        return self.age \n",
    "\n",
    "\n"
   ]
  },
  {
   "cell_type": "code",
   "execution_count": 73,
   "id": "577a2e3a",
   "metadata": {},
   "outputs": [
    {
     "name": "stdout",
     "output_type": "stream",
     "text": [
      "person1:\n",
      "Name: Gashaw Tiruneh\n",
      "Country: Ethiopia\n",
      "Email: gashawtirunehh@gmail.com\n",
      "Date of Birt: 1994-12-25\n",
      "Age: 29\n"
     ]
    }
   ],
   "source": [
    "# acces the attributes and calculated age for each person frm the class  Person\n",
    "person1=Person(\"Gashaw Tiruneh\",\"Ethiopia\",date(1994,12,25),\"gashawtirunehh@gmail.com\") \n",
    "print(\"person1:\")\n",
    "print(\"Name:\",person1.name)\n",
    "print(\"Country:\",person1.country)\n",
    "print(\"Email:\",person1.email)\n",
    "print(\"Date of Birt:\",person1.date_of_birth)\n",
    "print(\"Age:\",person1.age_calculator())"
   ]
  },
  {
   "cell_type": "code",
   "execution_count": null,
   "id": "9738f186",
   "metadata": {},
   "outputs": [],
   "source": []
  },
  {
   "cell_type": "code",
   "execution_count": 74,
   "id": "3ff9537b",
   "metadata": {},
   "outputs": [
    {
     "name": "stdout",
     "output_type": "stream",
     "text": [
      "person2:\n",
      "Name: Michael Schofield\n",
      "Country: United States Of America\n",
      "Date of Birt: 1972-06-02\n",
      "Email: it is dummy:scofiel12@gmail.com\n",
      "Age: 51\n"
     ]
    }
   ],
   "source": [
    "   # acces the attributes and calculated age for each person from the class Person      \n",
    "person2=Person(\"Michael Schofield\",\"United States Of America\",date(1972,6,2),\"it is dummy:scofiel12@gmail.com\" ) \n",
    "print(\"person2:\")\n",
    "print(\"Name:\",person2.name)\n",
    "print(\"Country:\",person2.country)\n",
    "print(\"Date of Birt:\",person2.date_of_birth)\n",
    "print(\"Email:\",person2.email)\n",
    "print(\"Age:\",person2.age_calculator())\n"
   ]
  },
  {
   "cell_type": "code",
   "execution_count": null,
   "id": "070b11bc",
   "metadata": {},
   "outputs": [],
   "source": []
  },
  {
   "cell_type": "code",
   "execution_count": null,
   "id": "f8fe0bd1",
   "metadata": {},
   "outputs": [],
   "source": []
  }
 ],
 "metadata": {
  "kernelspec": {
   "display_name": "Python 3 (ipykernel)",
   "language": "python",
   "name": "python3"
  },
  "language_info": {
   "codemirror_mode": {
    "name": "ipython",
    "version": 3
   },
   "file_extension": ".py",
   "mimetype": "text/x-python",
   "name": "python",
   "nbconvert_exporter": "python",
   "pygments_lexer": "ipython3",
   "version": "3.9.12"
  }
 },
 "nbformat": 4,
 "nbformat_minor": 5
}
